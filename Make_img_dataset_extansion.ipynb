{
  "nbformat": 4,
  "nbformat_minor": 0,
  "metadata": {
    "colab": {
      "name": "Make_img-dataset-extansion.ipynb",
      "provenance": [],
      "private_outputs": true,
      "collapsed_sections": [],
      "include_colab_link": true
    },
    "kernelspec": {
      "name": "python3",
      "display_name": "Python 3"
    },
    "accelerator": "GPU"
  },
  "cells": [
    {
      "cell_type": "markdown",
      "metadata": {
        "id": "view-in-github",
        "colab_type": "text"
      },
      "source": [
        "<a href=\"https://colab.research.google.com/github/yuuOkada/Sphere_CNN/blob/master/Make_img_dataset_extansion.ipynb\" target=\"_parent\"><img src=\"https://colab.research.google.com/assets/colab-badge.svg\" alt=\"Open In Colab\"/></a>"
      ]
    },
    {
      "cell_type": "markdown",
      "metadata": {
        "id": "3lAZEMSLlWEP",
        "colab_type": "text"
      },
      "source": [
        "Time elapsed since Colab Instance was started: Shutdown in 0.5day(43200 second)"
      ]
    },
    {
      "cell_type": "code",
      "metadata": {
        "id": "i8pGjeSElTjV",
        "colab_type": "code",
        "colab": {}
      },
      "source": [
        "!cat /proc/uptime | awk '{print $1 /60 /60 /24 \"days (\" $1 \"sec)\"}'"
      ],
      "execution_count": 0,
      "outputs": []
    },
    {
      "cell_type": "markdown",
      "metadata": {
        "id": "MgUdL2f7lWwv",
        "colab_type": "text"
      },
      "source": [
        "Connect to Google Drive File Stream"
      ]
    },
    {
      "cell_type": "code",
      "metadata": {
        "id": "7OlNPIjVlWVF",
        "colab_type": "code",
        "colab": {}
      },
      "source": [
        "from google.colab import drive\n",
        "drive.mount('./gdrive')"
      ],
      "execution_count": 0,
      "outputs": []
    },
    {
      "cell_type": "markdown",
      "metadata": {
        "id": "pwtyC04Kle1c",
        "colab_type": "text"
      },
      "source": [
        "Extend single Image -> 9 variational Images"
      ]
    },
    {
      "cell_type": "code",
      "metadata": {
        "id": "GOe_UyXOlfGG",
        "colab_type": "code",
        "colab": {}
      },
      "source": [
        "import os, glob\n",
        "import numpy as np\n",
        "import matplotlib.pyplot as plt\n",
        "from PIL import Image\n",
        "from tensorflow.python.keras.preprocessing import image\n",
        "from tensorflow.python.keras.preprocessing.image import ImageDataGenerator\n",
        "\n",
        "#Pictures path\n",
        "#root_dir = \"./gdrive/My Drive/Google Colab/CO191219_proj/ImageforLearn_v1\"\n",
        "root_dir = \"./gdrive/My Drive/Google Colab/CO191219_proj/ImageforLearn_v2\"\n",
        "\n",
        "# Category Classes\n",
        "#categories = [\"ceiling\", \"cloth\", \"floor\", \"floor-object\",\"hole\", \"human\", \"object\", \"wall\"]\n",
        "categories = [\"floor1\", \"floor2\", \"floor-object\", \"object\", \"wall\", \"hole\", \"human\",\"ceiling\"]\n",
        "\n",
        "#Define Generator\n",
        "glasses_gen = ImageDataGenerator(rotation_range = 50,  # Rotation angle range\n",
        "                               width_shift_range = 0.3, #Define Horizontal movement range\n",
        "                               height_shift_range = 0.1, #Define Vertical movement range\n",
        "                               shear_range = 10, # Define Shear angle range\n",
        "                               zoom_range = 0.3, # Define Zoom range\n",
        "                               channel_shift_range = 100, # Define Color-channel range\n",
        "                              )\n",
        "\n",
        "\n",
        "# Loop  in category-name dictionary\n",
        "for categ in categories:\n",
        "    included_files = glob.glob(root_dir + \"/\" + categ +  \"/*.jpg\") #Get all-filename in folder \n",
        "    save_path = root_dir + \"/\" + categ #Define image save path\n",
        "    print(save_path)\n",
        "\n",
        "\n",
        "    for f in included_files:\n",
        "        img = image.load_img(f) #Load image\n",
        "        img = np.array(img) #Make image numpy-array\n",
        "        img = img[np.newaxis] #-Numpy-array Rank3(.jpg) -> Rank4\n",
        "\n",
        "        #Create generator\n",
        "        generator = glasses_gen.flow(img, \n",
        "                               batch_size  = 1,   #Assign batch size\n",
        "                               save_to_dir = save_path,   #Assign image save path\n",
        "                               save_format = \"jpg\"  #\n",
        "                               )\n",
        "        #Loop to make extansion images\n",
        "        for i in range(9):\n",
        "            batch = generator.next()"
      ],
      "execution_count": 0,
      "outputs": []
    }
  ]
}