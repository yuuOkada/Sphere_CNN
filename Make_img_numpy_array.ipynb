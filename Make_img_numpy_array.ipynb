{
  "nbformat": 4,
  "nbformat_minor": 0,
  "metadata": {
    "colab": {
      "name": "Make_img_numpy-array.ipynb",
      "provenance": [],
      "collapsed_sections": [],
      "include_colab_link": true
    },
    "kernelspec": {
      "name": "python3",
      "display_name": "Python 3"
    },
    "accelerator": "GPU"
  },
  "cells": [
    {
      "cell_type": "markdown",
      "metadata": {
        "id": "view-in-github",
        "colab_type": "text"
      },
      "source": [
        "<a href=\"https://colab.research.google.com/github/yuuOkada/Sphere_CNN/blob/master/Make_img_numpy_array.ipynb\" target=\"_parent\"><img src=\"https://colab.research.google.com/assets/colab-badge.svg\" alt=\"Open In Colab\"/></a>"
      ]
    },
    {
      "cell_type": "markdown",
      "metadata": {
        "id": "Gz__yGwiroWX",
        "colab_type": "text"
      },
      "source": [
        "Time elapsed since Colab Instance was started: Shutdown in 0.5day(43200 second)"
      ]
    },
    {
      "cell_type": "code",
      "metadata": {
        "id": "8Fg-7u3Crohi",
        "colab_type": "code",
        "outputId": "092c9f0d-5369-4ffa-b1f8-f31bbf51b16a",
        "colab": {
          "base_uri": "https://localhost:8080/",
          "height": 35
        }
      },
      "source": [
        "!cat /proc/uptime | awk '{print $1 /60 /60 /24 \"days (\" $1 \"sec)\"}'"
      ],
      "execution_count": 0,
      "outputs": [
        {
          "output_type": "stream",
          "text": [
            "0.135461days (11703.86sec)\n"
          ],
          "name": "stdout"
        }
      ]
    },
    {
      "cell_type": "markdown",
      "metadata": {
        "id": "TGVTcPodLbFc",
        "colab_type": "text"
      },
      "source": [
        "Connect to Google Drive File Stream"
      ]
    },
    {
      "cell_type": "code",
      "metadata": {
        "id": "MM0oM-nkSINr",
        "colab_type": "code",
        "outputId": "812cf372-4d5d-4f06-f806-16cb0551e4bf",
        "colab": {
          "base_uri": "https://localhost:8080/",
          "height": 124
        }
      },
      "source": [
        "from google.colab import drive\n",
        "drive.mount('./gdrive')"
      ],
      "execution_count": 0,
      "outputs": [
        {
          "output_type": "stream",
          "text": [
            "Go to this URL in a browser: https://accounts.google.com/o/oauth2/auth?client_id=947318989803-6bn6qk8qdgf4n4g3pfee6491hc0brc4i.apps.googleusercontent.com&redirect_uri=urn%3aietf%3awg%3aoauth%3a2.0%3aoob&response_type=code&scope=email%20https%3a%2f%2fwww.googleapis.com%2fauth%2fdocs.test%20https%3a%2f%2fwww.googleapis.com%2fauth%2fdrive%20https%3a%2f%2fwww.googleapis.com%2fauth%2fdrive.photos.readonly%20https%3a%2f%2fwww.googleapis.com%2fauth%2fpeopleapi.readonly\n",
            "\n",
            "Enter your authorization code:\n",
            "··········\n",
            "Mounted at ./gdrive\n"
          ],
          "name": "stdout"
        }
      ]
    },
    {
      "cell_type": "markdown",
      "metadata": {
        "id": "AM49WGufLUb0",
        "colab_type": "text"
      },
      "source": [
        "Image data -> reshape to numpy array(90,110,3) , 8Class"
      ]
    },
    {
      "cell_type": "code",
      "metadata": {
        "id": "Oq4lFwsTSJ8c",
        "colab_type": "code",
        "colab": {}
      },
      "source": [
        "from PIL import Image\n",
        "import os, glob\n",
        "import numpy as np\n",
        "import random, math\n",
        "\n",
        "#Pictures path\n",
        "root_dir = \"./gdrive/My Drive/Google Colab/CO191219_proj/ImageforLearn_v1\"\n",
        "#Categories\n",
        "categories = [\"ceiling\", \"cloth\", \"floor\", \"floor-object\",\"hole\", \"human\", \"object\", \"wall\"]\n",
        "\n",
        "#Image-data array\n",
        "X = []\n",
        "#Rabel-data array\n",
        "Y = []\n",
        "\n",
        "#Define make_sample function, fetch filename and return image numpy-array and index\n",
        "def make_sample(files):\n",
        "    global X, Y\n",
        "    X = []\n",
        "    Y = []\n",
        "    for cat, fname in files:\n",
        "        add_sample(cat, fname)\n",
        "    return np.array(X), np.array(Y)\n",
        "\n",
        "#Define add_sample function, fetch image numpy-array and return index in categories\n",
        "def add_sample(cat, fname):\n",
        "    img = Image.open(fname)\n",
        "    img = img.convert(\"RGB\")\n",
        "    img = img.resize((110, 90))\n",
        "    data = np.asarray(img)\n",
        "    X.append(data)\n",
        "    Y.append(cat)\n",
        "\n",
        "\n",
        "#Array for all image-data\n",
        "all_images = []\n",
        "\n",
        "#Summarize all Images to \"allfiles\" with Category-name and index\n",
        "for idx, cat in enumerate(categories):\n",
        "    image_dir = root_dir + \"/\" + cat\n",
        "    included_files = glob.glob(image_dir + \"/*.jpg\")\n",
        "    for f in _included_files:\n",
        "        all_images.append((idx, f))\n",
        "\n",
        "#Shuffle \"allfiles\" and devide Learning-data and Test-data\n",
        "random.shuffle(all_images)\n",
        "th = math.floor(len(all_images) * 0.8)\n",
        "train = all_images[0:th]\n",
        "test  = all_images[th:]\n",
        "X_train, y_train = make_sample(train)\n",
        "X_test, y_test = make_sample(test)\n",
        "xy = (X_train, X_test, y_train, y_test)\n",
        "\n",
        "#Save numpy-array for all data\n",
        "np.save(root_dir+\"/img-data_90-110-3_8c.npy\", xy)"
      ],
      "execution_count": 0,
      "outputs": []
    },
    {
      "cell_type": "markdown",
      "metadata": {
        "id": "uK5v7ugSji85",
        "colab_type": "text"
      },
      "source": [
        "Image data -> reshape to numpy array(60,110,3) , 7-false8-Class"
      ]
    },
    {
      "cell_type": "code",
      "metadata": {
        "id": "I0xQwtxojipo",
        "colab_type": "code",
        "colab": {}
      },
      "source": [
        "from PIL import Image\n",
        "import os, glob\n",
        "import numpy as np\n",
        "import random, math\n",
        "\n",
        "#Pictures path\n",
        "root_dir = \"./gdrive/My Drive/Google Colab/CO191219_proj/ImageforLearn_v2\"\n",
        "#Categories\n",
        "categories = [\"floor1\", \"floor2\", \"floor-object\", \"object\", \"wall\", \"hole\", \"human\",\"ceiling\"]\n",
        "\n",
        "#Image-data array\n",
        "X = []\n",
        "#Rabel-data array\n",
        "Y = []\n",
        "\n",
        "#Define make_sample function, fetch filename and return image numpy-array and index\n",
        "def make_sample(files):\n",
        "    global X, Y\n",
        "    X = []\n",
        "    Y = []\n",
        "    for cat, fname in files:\n",
        "        add_sample(cat, fname)\n",
        "    return np.array(X), np.array(Y)\n",
        "\n",
        "#Define add_sample function, fetch image numpy-array and return index in categories\n",
        "def add_sample(cat, fname):\n",
        "    img = Image.open(fname)\n",
        "    img = img.convert(\"RGB\")\n",
        "    img = img.resize((70, 60))\n",
        "    data = np.asarray(img)\n",
        "    X.append(data)\n",
        "    Y.append(cat)\n",
        "\n",
        "\n",
        "#Array for all image-data\n",
        "allfiles = []\n",
        "\n",
        "#Summarize all Images to \"allfiles\" with Category-name and index\n",
        "for idx, cat in enumerate(categories):\n",
        "    image_dir = root_dir + \"/\" + cat\n",
        "    files = glob.glob(image_dir + \"/*.jpg\")\n",
        "    for f in files:\n",
        "        allfiles.append((idx, f))\n",
        "\n",
        "#Shuffle \"allfiles\" and devide Learning-data and Test-data\n",
        "random.shuffle(allfiles)\n",
        "th = math.floor(len(allfiles) * 0.85)\n",
        "train = allfiles[0:th]\n",
        "\n",
        "test  = allfiles[th:]\n",
        "X_train, y_train = make_sample(train)\n",
        "X_test, y_test = make_sample(test)\n",
        "xy = (X_train, X_test, y_train, y_test)\n",
        "\n",
        "#Save numpy-array for all data\n",
        "np.save(root_dir+\"/img-data_60-70-3_7c.npy\", xy)"
      ],
      "execution_count": 0,
      "outputs": []
    }
  ]
}