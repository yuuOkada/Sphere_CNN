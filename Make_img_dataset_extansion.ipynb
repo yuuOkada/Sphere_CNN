{
  "nbformat": 4,
  "nbformat_minor": 0,
  "metadata": {
    "colab": {
      "name": "Make_img-dataset-extansion.ipynb",
      "provenance": [],
      "private_outputs": true,
      "collapsed_sections": [],
      "include_colab_link": true
    },
    "kernelspec": {
      "name": "python3",
      "display_name": "Python 3"
    },
    "accelerator": "GPU"
  },
  "cells": [
    {
      "cell_type": "markdown",
      "metadata": {
        "id": "view-in-github",
        "colab_type": "text"
      },
      "source": [
        "<a href=\"https://colab.research.google.com/github/yuuOkada/Sphere_CNN/blob/master/Make_img_dataset_extansion.ipynb\" target=\"_parent\"><img src=\"https://colab.research.google.com/assets/colab-badge.svg\" alt=\"Open In Colab\"/></a>"
      ]
    },
    {
      "cell_type": "markdown",
      "metadata": {
        "id": "3lAZEMSLlWEP",
        "colab_type": "text"
      },
      "source": [
        "Colab Instance起動からの経過時間: 0.5daysでShutdown"
      ]
    },
    {
      "cell_type": "code",
      "metadata": {
        "id": "i8pGjeSElTjV",
        "colab_type": "code",
        "colab": {}
      },
      "source": [
        "!cat /proc/uptime | awk '{print $1 /60 /60 /24 \"days (\" $1 \"sec)\"}'"
      ],
      "execution_count": 0,
      "outputs": []
    },
    {
      "cell_type": "markdown",
      "metadata": {
        "id": "MgUdL2f7lWwv",
        "colab_type": "text"
      },
      "source": [
        "Connect to Google Drive File Stream"
      ]
    },
    {
      "cell_type": "code",
      "metadata": {
        "id": "7OlNPIjVlWVF",
        "colab_type": "code",
        "colab": {}
      },
      "source": [
        "from google.colab import drive\n",
        "drive.mount('./gdrive')"
      ],
      "execution_count": 0,
      "outputs": []
    },
    {
      "cell_type": "markdown",
      "metadata": {
        "id": "pwtyC04Kle1c",
        "colab_type": "text"
      },
      "source": [
        "Extend single Image -> 9 variational Images"
      ]
    },
    {
      "cell_type": "code",
      "metadata": {
        "id": "GOe_UyXOlfGG",
        "colab_type": "code",
        "colab": {}
      },
      "source": [
        "import os, glob\n",
        "import numpy as np\n",
        "import matplotlib.pyplot as plt\n",
        "from PIL import Image\n",
        "from tensorflow.python.keras.preprocessing import image\n",
        "from tensorflow.python.keras.preprocessing.image import ImageDataGenerator\n",
        "\n",
        "#画像が保存されているルートディレクトリのパス\n",
        "#root_dir = \"./gdrive/My Drive/Google Colab/CO191219_proj/ImageforLearn_v1\"\n",
        "root_dir = \"./gdrive/My Drive/Google Colab/CO191219_proj/ImageforLearn_v2\"\n",
        "# カテゴリ名\n",
        "#categories = [\"ceiling\", \"cloth\", \"floor\", \"floor-object\",\"hole\", \"human\", \"object\", \"wall\"]\n",
        "categories = [\"floor1\", \"floor2\", \"floor-object\", \"object\", \"wall\", \"hole\", \"human\", \"ceiling\"]\n",
        "\n",
        "#Generator定義\n",
        "glasses_gen = ImageDataGenerator(rotation_range = 50,  ## 回転角度の変更域の指定\n",
        "                               width_shift_range = 0.3, ## 水平方向への移動域の指定\n",
        "                               height_shift_range = 0.1, ## 垂直方向への移動域の指定\n",
        "                               shear_range = 10, ## 傾斜角度の変更域の指定\n",
        "                               zoom_range = 0.3, ## 拡大率の変更域の指定\n",
        "                               channel_shift_range = 100, ## チャンネル変化の指定\n",
        "                              )\n",
        "\n",
        "for categ in categories:\n",
        "    files = glob.glob(root_dir + \"/\" + categ +  \"/*.jpg\")\n",
        "    save_path = root_dir + \"/\" + categ\n",
        "    print(save_path)\n",
        "    \n",
        "    for f in files:\n",
        "        img = image.load_img(f) #画像の読み込み\n",
        "        img = np.array(img) #配列化\n",
        "        img = img[np.newaxis] #ArrayをRank4にする\n",
        "\n",
        "        #Generator生成\n",
        "        gen = glasses_gen.flow(img, \n",
        "                               batch_size  = 1,         ## 起動バッチ数\n",
        "                               save_to_dir = save_path, ## 保存先ディレクトリのpath\n",
        "                               save_format = \"jpg\"      ## 保存形式の指定\n",
        "                               )\n",
        "        for i in range(10):\n",
        "            batch = gen.next()"
      ],
      "execution_count": 0,
      "outputs": []
    }
  ]
}